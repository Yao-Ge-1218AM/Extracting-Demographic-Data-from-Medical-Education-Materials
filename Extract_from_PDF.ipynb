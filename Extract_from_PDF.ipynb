{
  "nbformat": 4,
  "nbformat_minor": 0,
  "metadata": {
    "colab": {
      "provenance": []
    },
    "kernelspec": {
      "name": "python3",
      "display_name": "Python 3"
    },
    "language_info": {
      "name": "python"
    }
  },
  "cells": [
    {
      "cell_type": "code",
      "execution_count": null,
      "metadata": {
        "colab": {
          "base_uri": "https://localhost:8080/"
        },
        "id": "Fp9DB1A4h8Po",
        "outputId": "f7a13c6f-eb06-4134-d128-a0d166589e87"
      },
      "outputs": [
        {
          "output_type": "stream",
          "name": "stdout",
          "text": [
            "Collecting PyPDF2\n",
            "  Downloading pypdf2-3.0.1-py3-none-any.whl (232 kB)\n",
            "\u001b[2K     \u001b[90m━━━━━━━━━━━━━━━━━━━━━━━━━━━━━━━━━━━━━━━━\u001b[0m \u001b[32m232.6/232.6 kB\u001b[0m \u001b[31m3.3 MB/s\u001b[0m eta \u001b[36m0:00:00\u001b[0m\n",
            "\u001b[?25hInstalling collected packages: PyPDF2\n",
            "Successfully installed PyPDF2-3.0.1\n"
          ]
        }
      ],
      "source": [
        "!pip install PyPDF2\n"
      ]
    },
    {
      "cell_type": "code",
      "source": [
        "import PyPDF2\n",
        "\n",
        "# 打开PDF文件\n",
        "with open('/content/FA22 Cardio ASC Week 1- Case Study.pdf', 'rb') as file:\n",
        "    reader = PyPDF2.PdfReader(file)\n",
        "    text = ''\n",
        "    # 逐页读取PDF\n",
        "    for page in reader.pages:\n",
        "        if page.extract_text():  # 确保页面有文本内容\n",
        "            text += page.extract_text() + '\\n'\n",
        "\n",
        "# 将提取的文本写入新的txt文件\n",
        "with open('output1.txt', 'w', encoding='utf-8') as output_file:\n",
        "    output_file.write(text)\n",
        "\n"
      ],
      "metadata": {
        "id": "fcv43Jm1iFO9"
      },
      "execution_count": null,
      "outputs": []
    },
    {
      "cell_type": "code",
      "source": [
        "!pip install pdfplumber\n"
      ],
      "metadata": {
        "colab": {
          "base_uri": "https://localhost:8080/"
        },
        "id": "fFBPvildi1Sm",
        "outputId": "ca281292-7087-407c-e8db-22a9be25d07f"
      },
      "execution_count": null,
      "outputs": [
        {
          "output_type": "stream",
          "name": "stdout",
          "text": [
            "Collecting pdfplumber\n",
            "  Downloading pdfplumber-0.11.0-py3-none-any.whl (56 kB)\n",
            "\u001b[2K     \u001b[90m━━━━━━━━━━━━━━━━━━━━━━━━━━━━━━━━━━━━━━━━\u001b[0m \u001b[32m56.4/56.4 kB\u001b[0m \u001b[31m2.4 MB/s\u001b[0m eta \u001b[36m0:00:00\u001b[0m\n",
            "\u001b[?25hCollecting pdfminer.six==20231228 (from pdfplumber)\n",
            "  Downloading pdfminer.six-20231228-py3-none-any.whl (5.6 MB)\n",
            "\u001b[2K     \u001b[90m━━━━━━━━━━━━━━━━━━━━━━━━━━━━━━━━━━━━━━━━\u001b[0m \u001b[32m5.6/5.6 MB\u001b[0m \u001b[31m48.8 MB/s\u001b[0m eta \u001b[36m0:00:00\u001b[0m\n",
            "\u001b[?25hRequirement already satisfied: Pillow>=9.1 in /usr/local/lib/python3.10/dist-packages (from pdfplumber) (9.4.0)\n",
            "Collecting pypdfium2>=4.18.0 (from pdfplumber)\n",
            "  Downloading pypdfium2-4.30.0-py3-none-manylinux_2_17_x86_64.manylinux2014_x86_64.whl (2.8 MB)\n",
            "\u001b[2K     \u001b[90m━━━━━━━━━━━━━━━━━━━━━━━━━━━━━━━━━━━━━━━━\u001b[0m \u001b[32m2.8/2.8 MB\u001b[0m \u001b[31m76.4 MB/s\u001b[0m eta \u001b[36m0:00:00\u001b[0m\n",
            "\u001b[?25hRequirement already satisfied: charset-normalizer>=2.0.0 in /usr/local/lib/python3.10/dist-packages (from pdfminer.six==20231228->pdfplumber) (3.3.2)\n",
            "Requirement already satisfied: cryptography>=36.0.0 in /usr/local/lib/python3.10/dist-packages (from pdfminer.six==20231228->pdfplumber) (42.0.7)\n",
            "Requirement already satisfied: cffi>=1.12 in /usr/local/lib/python3.10/dist-packages (from cryptography>=36.0.0->pdfminer.six==20231228->pdfplumber) (1.16.0)\n",
            "Requirement already satisfied: pycparser in /usr/local/lib/python3.10/dist-packages (from cffi>=1.12->cryptography>=36.0.0->pdfminer.six==20231228->pdfplumber) (2.22)\n",
            "Installing collected packages: pypdfium2, pdfminer.six, pdfplumber\n",
            "Successfully installed pdfminer.six-20231228 pdfplumber-0.11.0 pypdfium2-4.30.0\n"
          ]
        }
      ]
    },
    {
      "cell_type": "code",
      "source": [
        "import pdfplumber\n",
        "\n",
        "def extract_text_from_pdf(path):\n",
        "    with pdfplumber.open(path) as pdf:\n",
        "        full_text = []\n",
        "        for page in pdf.pages:\n",
        "            # 检测文本的布局，按列提取\n",
        "            text = page.extract_text(x_tolerance=3, y_tolerance=3)  # x_tolerance 和 y_tolerance 可调整以优化列分割\n",
        "            if text:\n",
        "                full_text.append(text)\n",
        "        return \"\\n\".join(full_text)\n",
        "\n",
        "# 指定PDF文件路径\n",
        "pdf_path = '/content/JACC State of the Art Review, Early Rhythm Control in Afib.pdf'\n",
        "extracted_text = extract_text_from_pdf(pdf_path)\n",
        "\n",
        "# 将提取的文本写入到新的txt文件中\n",
        "with open('output_text.txt', 'w', encoding='utf-8') as output_file:\n",
        "    output_file.write(extracted_text)\n"
      ],
      "metadata": {
        "id": "KYvpCE8Ri7Lb"
      },
      "execution_count": null,
      "outputs": []
    },
    {
      "cell_type": "code",
      "source": [
        "import pdfplumber\n",
        "\n",
        "# 打开PDF文件\n",
        "with pdfplumber.open('/content/JACC State of the Art Review, Early Rhythm Control in Afib.pdf') as pdf:\n",
        "    text = ''\n",
        "    # 逐页读取PDF\n",
        "    for page in pdf.pages:\n",
        "        text += page.extract_text() + '\\n'\n",
        "\n",
        "with open('output_text1.txt', 'w', encoding='utf-8') as output_file:\n",
        "    output_file.write(extracted_text)\n"
      ],
      "metadata": {
        "id": "6zq2ab75jMNI"
      },
      "execution_count": null,
      "outputs": []
    }
  ]
}