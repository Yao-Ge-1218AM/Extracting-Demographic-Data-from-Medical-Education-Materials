{
  "nbformat": 4,
  "nbformat_minor": 0,
  "metadata": {
    "colab": {
      "provenance": []
    },
    "kernelspec": {
      "name": "python3",
      "display_name": "Python 3"
    },
    "language_info": {
      "name": "python"
    }
  },
  "cells": [
    {
      "cell_type": "code",
      "execution_count": null,
      "metadata": {
        "id": "1vRFTETSoN-p"
      },
      "outputs": [],
      "source": [
        "# 读取文件\n",
        "with open('/content/12_f2b8d564818147fb84d274f35ef02f58.13.22Pre-ReadingNEJMMaronSuddenDeathReview2003_output_32bc8f647fe149f4a7c6350eb885b879.txt', 'r', encoding='utf-8') as file:\n",
        "    lines = file.readlines()\n",
        "\n",
        "# 初始化变量\n",
        "output_lines = []\n",
        "temp_paragraph = []\n",
        "\n",
        "# 遍历每一行\n",
        "for line in lines:\n",
        "    stripped_line = line.strip()\n",
        "    if stripped_line:\n",
        "        temp_paragraph.append(stripped_line)\n",
        "    else:\n",
        "        if temp_paragraph:\n",
        "            output_lines.append(' '.join(temp_paragraph))\n",
        "            temp_paragraph = []\n",
        "\n",
        "# 如果最后一段没有被添加\n",
        "if temp_paragraph:\n",
        "    output_lines.append(' '.join(temp_paragraph))\n",
        "\n",
        "# 将结果写入新的文件\n",
        "with open('output_file.txt', 'w', encoding='utf-8') as file:\n",
        "    for line in output_lines:\n",
        "        file.write(line + '\\n')\n"
      ]
    }
  ]
}